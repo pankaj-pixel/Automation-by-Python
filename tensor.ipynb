{
  "nbformat": 4,
  "nbformat_minor": 0,
  "metadata": {
    "colab": {
      "provenance": [],
      "authorship_tag": "ABX9TyOHBkz8MEUPcRQ3iL5sTmYi",
      "include_colab_link": true
    },
    "kernelspec": {
      "name": "python3",
      "display_name": "Python 3"
    },
    "language_info": {
      "name": "python"
    }
  },
  "cells": [
    {
      "cell_type": "markdown",
      "metadata": {
        "id": "view-in-github",
        "colab_type": "text"
      },
      "source": [
        "<a href=\"https://colab.research.google.com/github/pankaj-pixel/Automation-by-Python/blob/main/tensor.ipynb\" target=\"_parent\"><img src=\"https://colab.research.google.com/assets/colab-badge.svg\" alt=\"Open In Colab\"/></a>"
      ]
    },
    {
      "cell_type": "code",
      "execution_count": 2,
      "metadata": {
        "id": "wkT4ouuXzeoM"
      },
      "outputs": [],
      "source": [
        "import tensorflow as tf\n",
        "import numpy as np\n"
      ]
    },
    {
      "cell_type": "code",
      "source": [],
      "metadata": {
        "id": "NR9tSr3m6AHQ"
      },
      "execution_count": null,
      "outputs": []
    },
    {
      "cell_type": "markdown",
      "source": [
        "#Tensors Dimensions"
      ],
      "metadata": {
        "id": "OxqueVcW1i2U"
      }
    },
    {
      "cell_type": "code",
      "source": [
        "zero_dim_tensor = tf.constant(4)\n",
        "print(zero_dim_tensor)"
      ],
      "metadata": {
        "colab": {
          "base_uri": "https://localhost:8080/"
        },
        "id": "2zMU-ZClzk5O",
        "outputId": "2d589b1c-14e5-4ea2-954a-151002be6755"
      },
      "execution_count": 7,
      "outputs": [
        {
          "output_type": "stream",
          "name": "stdout",
          "text": [
            "tf.Tensor(4, shape=(), dtype=int32)\n"
          ]
        }
      ]
    },
    {
      "cell_type": "code",
      "source": [
        "one_dim_array = tf.constant([1,2,3])\n",
        "print(one_dim_array)\n",
        "print(one_dim_array.shape)"
      ],
      "metadata": {
        "colab": {
          "base_uri": "https://localhost:8080/"
        },
        "id": "TeWtObd-1uuO",
        "outputId": "cff4249b-58dd-4154-b63c-59d441d55ba0"
      },
      "execution_count": 8,
      "outputs": [
        {
          "output_type": "stream",
          "name": "stdout",
          "text": [
            "tf.Tensor([1 2 3], shape=(3,), dtype=int32)\n",
            "(3,)\n"
          ]
        }
      ]
    },
    {
      "cell_type": "code",
      "source": [
        "two_dim_array = tf.constant([\n",
        "    [2,3,4],\n",
        "    [5,6,7]\n",
        "])\n",
        "print(two_dim_array)\n"
      ],
      "metadata": {
        "colab": {
          "base_uri": "https://localhost:8080/"
        },
        "id": "vPiQaibc2PKF",
        "outputId": "b7f54421-2fb4-478d-bbc8-ac5ee80760de"
      },
      "execution_count": 9,
      "outputs": [
        {
          "output_type": "stream",
          "name": "stdout",
          "text": [
            "tf.Tensor(\n",
            "[[2 3 4]\n",
            " [5 6 7]], shape=(2, 3), dtype=int32)\n"
          ]
        }
      ]
    },
    {
      "cell_type": "code",
      "source": [
        "three_dim_array =tf.constant([\n",
        "    [[1,2,3,4],\n",
        "     [6,7,8,9]],\n",
        "    [[3,1,3,5],\n",
        "     [7,8,9,1]],\n",
        "])\n",
        "print(three_dim_array)"
      ],
      "metadata": {
        "colab": {
          "base_uri": "https://localhost:8080/"
        },
        "id": "hcDU6tqE2-uX",
        "outputId": "7d229ffe-0a9d-4674-ed12-4474cfaddcc0"
      },
      "execution_count": 16,
      "outputs": [
        {
          "output_type": "stream",
          "name": "stdout",
          "text": [
            "tf.Tensor(\n",
            "[[[1 2 3 4]\n",
            "  [6 7 8 9]]\n",
            "\n",
            " [[3 1 3 5]\n",
            "  [7 8 9 1]]], shape=(2, 2, 4), dtype=int32)\n"
          ]
        }
      ]
    },
    {
      "cell_type": "code",
      "source": [
        "four_D_array =tf.constant([[\n",
        "    [[1,2,3,4],\n",
        "     [6,7,8,9]],\n",
        "    [[5,4,3,2],\n",
        "     [5,6,8,9]],\n",
        "]])\n",
        "print(four_D_array)"
      ],
      "metadata": {
        "colab": {
          "base_uri": "https://localhost:8080/"
        },
        "id": "e--xfc7W5EGO",
        "outputId": "7abaadf1-bcfd-4b71-c79c-67fb5c882cc3"
      },
      "execution_count": 17,
      "outputs": [
        {
          "output_type": "stream",
          "name": "stdout",
          "text": [
            "tf.Tensor(\n",
            "[[[[1 2 3 4]\n",
            "   [6 7 8 9]]\n",
            "\n",
            "  [[5 4 3 2]\n",
            "   [5 6 8 9]]]], shape=(1, 2, 2, 4), dtype=int32)\n"
          ]
        }
      ]
    },
    {
      "cell_type": "markdown",
      "source": [
        "#Printing The Dimensions Of Tensor"
      ],
      "metadata": {
        "id": "dF7-mpip6V8i"
      }
    },
    {
      "cell_type": "code",
      "source": [
        "print(two_dim_array.ndim)\n",
        "print(three_dim_array.ndim)"
      ],
      "metadata": {
        "colab": {
          "base_uri": "https://localhost:8080/"
        },
        "id": "xzLp7r5t6cjk",
        "outputId": "6cd29b70-88bd-479b-999b-f1f08d9533ec"
      },
      "execution_count": 19,
      "outputs": [
        {
          "output_type": "stream",
          "name": "stdout",
          "text": [
            "2\n",
            "3\n"
          ]
        }
      ]
    },
    {
      "cell_type": "markdown",
      "source": [],
      "metadata": {
        "id": "34o1stcI75i2"
      }
    },
    {
      "cell_type": "markdown",
      "source": [
        "**converting the tensor data type from float To Integer**"
      ],
      "metadata": {
        "id": "KzrOA3jg76uE"
      }
    },
    {
      "cell_type": "code",
      "source": [
        "one_d_tensor = tf.constant([1,2,3,4,5],dtype=tf.float16)\n",
        "print(one_d_tensor)\n",
        "\n",
        "converting =  tf.cast(one_d_tensor,dtype=tf.int16)\n",
        "print(converting)"
      ],
      "metadata": {
        "colab": {
          "base_uri": "https://localhost:8080/"
        },
        "id": "GLeag1ZF8GCe",
        "outputId": "5a938d3c-c67f-404f-be67-a6efe38aba8d"
      },
      "execution_count": 30,
      "outputs": [
        {
          "output_type": "stream",
          "name": "stdout",
          "text": [
            "tf.Tensor([1. 2. 3. 4. 5.], shape=(5,), dtype=float16)\n",
            "tf.Tensor([1 2 3 4 5], shape=(5,), dtype=int16)\n"
          ]
        }
      ]
    },
    {
      "cell_type": "code",
      "source": [
        "string_tensor = tf.constant([\"string1\",\"string2\",\"string3\"])\n",
        "print(string_tensor)"
      ],
      "metadata": {
        "colab": {
          "base_uri": "https://localhost:8080/"
        },
        "id": "g57knDal8abG",
        "outputId": "93699f62-8296-42a6-e84c-9ac26661d8fc"
      },
      "execution_count": 31,
      "outputs": [
        {
          "output_type": "stream",
          "name": "stdout",
          "text": [
            "tf.Tensor([b'string1' b'string2' b'string3'], shape=(3,), dtype=string)\n"
          ]
        }
      ]
    },
    {
      "cell_type": "markdown",
      "source": [
        "#**converting numpy array Into Tensor**"
      ],
      "metadata": {
        "id": "14GNvq8L_S-7"
      }
    },
    {
      "cell_type": "code",
      "source": [
        "array1 =  np.array([1,2,3,4,5])\n",
        "print(type(array1))\n",
        "\n",
        "tensor_convert = tf.convert_to_tensor(array1)\n",
        "print(tensor_convert)\n",
        "print(type(tensor_convert))"
      ],
      "metadata": {
        "colab": {
          "base_uri": "https://localhost:8080/"
        },
        "id": "u2sDq_Oz_a3M",
        "outputId": "c23ee2fa-9d91-4c23-d2f2-7686d81d16d9"
      },
      "execution_count": 39,
      "outputs": [
        {
          "output_type": "stream",
          "name": "stdout",
          "text": [
            "<class 'numpy.ndarray'>\n",
            "tf.Tensor([1 2 3 4 5], shape=(5,), dtype=int64)\n",
            "<class 'tensorflow.python.framework.ops.EagerTensor'>\n"
          ]
        }
      ]
    },
    {
      "cell_type": "markdown",
      "source": [
        "#Construct The matrices using tf.eye method"
      ],
      "metadata": {
        "id": "IYWsi0HhEMjR"
      }
    },
    {
      "cell_type": "code",
      "source": [
        "tensor_eye = tf.eye(\n",
        "    num_rows =3,\n",
        "    num_columns=5,\n",
        "    batch_shape=[2,],\n",
        "    dtype=tf.dtypes.float32,\n",
        "    name=None\n",
        ")\n",
        "print(tensor_eye)\n"
      ],
      "metadata": {
        "colab": {
          "base_uri": "https://localhost:8080/"
        },
        "id": "0_QXz8fnEZop",
        "outputId": "b9993c24-a520-45d7-d784-1980ae9f47ad"
      },
      "execution_count": 47,
      "outputs": [
        {
          "output_type": "stream",
          "name": "stdout",
          "text": [
            "tf.Tensor(\n",
            "[[[1. 0. 0. 0. 0.]\n",
            "  [0. 1. 0. 0. 0.]\n",
            "  [0. 0. 1. 0. 0.]]\n",
            "\n",
            " [[1. 0. 0. 0. 0.]\n",
            "  [0. 1. 0. 0. 0.]\n",
            "  [0. 0. 1. 0. 0.]]], shape=(2, 3, 5), dtype=float32)\n"
          ]
        }
      ]
    },
    {
      "cell_type": "markdown",
      "source": [
        "**Tensor Fill**"
      ],
      "metadata": {
        "id": "3Z6JeOC5H3Cu"
      }
    },
    {
      "cell_type": "code",
      "source": [
        "fill = tf.fill([2,3,4],9)\n",
        "print(fill)"
      ],
      "metadata": {
        "colab": {
          "base_uri": "https://localhost:8080/"
        },
        "id": "8GTLdlFPH6Jn",
        "outputId": "22a9e712-cbee-43c0-c395-d35f42904503"
      },
      "execution_count": 57,
      "outputs": [
        {
          "output_type": "stream",
          "name": "stdout",
          "text": [
            "tf.Tensor(\n",
            "[[[9 9 9 9]\n",
            "  [9 9 9 9]\n",
            "  [9 9 9 9]]\n",
            "\n",
            " [[9 9 9 9]\n",
            "  [9 9 9 9]\n",
            "  [9 9 9 9]]], shape=(2, 3, 4), dtype=int32)\n"
          ]
        }
      ]
    },
    {
      "cell_type": "markdown",
      "source": [
        "#**Construct Tensor of 1's tf.ones**"
      ],
      "metadata": {
        "id": "j_MGcUqwJQPV"
      }
    },
    {
      "cell_type": "code",
      "source": [
        "ones = tf.ones(shape=[2,3],\n",
        "               dtype =tf.int32)\n",
        "print(ones)"
      ],
      "metadata": {
        "colab": {
          "base_uri": "https://localhost:8080/"
        },
        "id": "XrZl0EjEJbN5",
        "outputId": "1c1b348c-f961-42a8-ee69-37272c27aa92"
      },
      "execution_count": 51,
      "outputs": [
        {
          "output_type": "stream",
          "name": "stdout",
          "text": [
            "tf.Tensor(\n",
            "[[1 1 1]\n",
            " [1 1 1]], shape=(2, 3), dtype=int32)\n"
          ]
        }
      ]
    },
    {
      "cell_type": "code",
      "source": [
        "tf_fill = tf.fill([3,2],8)\n",
        "print(tf_fill)"
      ],
      "metadata": {
        "colab": {
          "base_uri": "https://localhost:8080/"
        },
        "id": "23cMG2IJJ0Om",
        "outputId": "acaaa7ee-2db6-4056-80f2-df1da1a3b5bf"
      },
      "execution_count": 59,
      "outputs": [
        {
          "output_type": "stream",
          "name": "stdout",
          "text": [
            "tf.Tensor(\n",
            "[[8 8]\n",
            " [8 8]\n",
            " [8 8]], shape=(3, 2), dtype=int32)\n"
          ]
        }
      ]
    },
    {
      "cell_type": "markdown",
      "source": [
        "#tf.ones_like Tensor"
      ],
      "metadata": {
        "id": "I9tA0bClK5eH"
      }
    },
    {
      "cell_type": "code",
      "source": [
        "one_like = tf.ones_like(tf_fill)\n",
        "print(one_like)"
      ],
      "metadata": {
        "colab": {
          "base_uri": "https://localhost:8080/"
        },
        "id": "Oc3K9FTdLAat",
        "outputId": "d5f08f46-ba17-4ae4-e782-9a6e9eac572f"
      },
      "execution_count": 60,
      "outputs": [
        {
          "output_type": "stream",
          "name": "stdout",
          "text": [
            "tf.Tensor(\n",
            "[[1 1]\n",
            " [1 1]\n",
            " [1 1]], shape=(3, 2), dtype=int32)\n"
          ]
        }
      ]
    },
    {
      "cell_type": "markdown",
      "source": [
        "**To Create The Tensor OF zero element tf.zeros**\n",
        "\n"
      ],
      "metadata": {
        "id": "MOpkRXWVM4il"
      }
    },
    {
      "cell_type": "code",
      "source": [
        "zero =  tf.zeros([4,5], dtype=tf.int32)\n",
        "print(zero)"
      ],
      "metadata": {
        "colab": {
          "base_uri": "https://localhost:8080/"
        },
        "id": "mIwBTSa6NBx-",
        "outputId": "3a9083a9-e5c5-4ddb-d7a6-b1e83f9fac8b"
      },
      "execution_count": 62,
      "outputs": [
        {
          "output_type": "stream",
          "name": "stdout",
          "text": [
            "tf.Tensor(\n",
            "[[0 0 0 0 0]\n",
            " [0 0 0 0 0]\n",
            " [0 0 0 0 0]\n",
            " [0 0 0 0 0]], shape=(4, 5), dtype=int32)\n"
          ]
        }
      ]
    },
    {
      "cell_type": "markdown",
      "source": [
        "#tf.shape = **Returns a tensor containing the shape of the input tenso**r."
      ],
      "metadata": {
        "id": "HClcXW3YPQn9"
      }
    },
    {
      "cell_type": "code",
      "source": [
        "shape1 = tf.shape(input=[[2,3],[3,5]])\n",
        "print(shape1)"
      ],
      "metadata": {
        "colab": {
          "base_uri": "https://localhost:8080/"
        },
        "id": "AhdU_xtfPeps",
        "outputId": "3b184d15-3808-4db9-f6d8-c26db76cc5ae"
      },
      "execution_count": 67,
      "outputs": [
        {
          "output_type": "stream",
          "name": "stdout",
          "text": [
            "tf.Tensor([2 2], shape=(2,), dtype=int32)\n"
          ]
        }
      ]
    },
    {
      "cell_type": "code",
      "source": [
        "t = tf.constant([[[1, 1, 1],\n",
        "                  [2, 2, 2]],\n",
        "                  [[3, 3, 3],\n",
        "                  [4, 4, 4]]])\n",
        "print(tf.shape(t))"
      ],
      "metadata": {
        "colab": {
          "base_uri": "https://localhost:8080/"
        },
        "id": "QZw0Bi1_QRJv",
        "outputId": "152746dd-b891-4501-e4bd-67e70336f42c"
      },
      "execution_count": 73,
      "outputs": [
        {
          "output_type": "stream",
          "name": "stdout",
          "text": [
            "tf.Tensor([2 2 3], shape=(3,), dtype=int32)\n"
          ]
        }
      ]
    },
    {
      "cell_type": "markdown",
      "source": [
        "**tf.size**"
      ],
      "metadata": {
        "id": "BfmuzYD3SWuD"
      }
    },
    {
      "cell_type": "code",
      "source": [
        "tf_size = tf.constant([[1,2,3],\n",
        "                       [4,5,6],\n",
        "                       [8,9,10]])\n",
        "print(tf_size)\n",
        "tf.size(tf_size)"
      ],
      "metadata": {
        "colab": {
          "base_uri": "https://localhost:8080/"
        },
        "id": "Eoo9et0XSZZh",
        "outputId": "32f98bc3-9595-40a8-bc9a-928fe1cecb3c"
      },
      "execution_count": 72,
      "outputs": [
        {
          "output_type": "stream",
          "name": "stdout",
          "text": [
            "tf.Tensor(\n",
            "[[ 1  2  3]\n",
            " [ 4  5  6]\n",
            " [ 8  9 10]], shape=(3, 3), dtype=int32)\n"
          ]
        },
        {
          "output_type": "execute_result",
          "data": {
            "text/plain": [
              "<tf.Tensor: shape=(), dtype=int32, numpy=9>"
            ]
          },
          "metadata": {},
          "execution_count": 72
        }
      ]
    },
    {
      "cell_type": "markdown",
      "source": [
        "#SORTING THE *TENSORS*"
      ],
      "metadata": {
        "id": "JBxjrRAqVBKt"
      }
    },
    {
      "cell_type": "code",
      "source": [
        "a = [14,3,1.2,4,7.2,1,2.2]\n",
        "print(tf.sort(a).numpy())\n",
        "print(tf.sort(a, direction = 'DESCENDING').numpy())"
      ],
      "metadata": {
        "colab": {
          "base_uri": "https://localhost:8080/"
        },
        "id": "MXtaE5MjVGct",
        "outputId": "61e20792-634d-4575-db04-9ea0d3539fbe"
      },
      "execution_count": 3,
      "outputs": [
        {
          "output_type": "stream",
          "name": "stdout",
          "text": [
            "[ 1.   1.2  2.2  3.   4.   7.2 14. ]\n",
            "[14.   7.2  4.   3.   2.2  1.2  1. ]\n"
          ]
        }
      ]
    },
    {
      "cell_type": "markdown",
      "source": [
        "#tf.random.normal()\n",
        "\n",
        "Used to create a random seed for the distribution.\n",
        "\n",
        "\n",
        "\n"
      ],
      "metadata": {
        "id": "iMXdsbSgbNeM"
      }
    },
    {
      "cell_type": "code",
      "source": [
        "print(tf.random.normal([2,3],mean=10,stddev=1))"
      ],
      "metadata": {
        "colab": {
          "base_uri": "https://localhost:8080/"
        },
        "id": "PNEEDXvFbXep",
        "outputId": "282f3629-ae5e-4631-c083-c14a93e876a3"
      },
      "execution_count": 11,
      "outputs": [
        {
          "output_type": "stream",
          "name": "stdout",
          "text": [
            "tf.Tensor(\n",
            "[[10.161645  9.303738  9.289399]\n",
            " [11.96313   9.268343 10.803902]], shape=(2, 3), dtype=float32)\n"
          ]
        }
      ]
    },
    {
      "cell_type": "code",
      "source": [],
      "metadata": {
        "id": "gRRYYvJLc_mv"
      },
      "execution_count": null,
      "outputs": []
    },
    {
      "cell_type": "code",
      "source": [],
      "metadata": {
        "id": "P07PIqlJc9Sq"
      },
      "execution_count": null,
      "outputs": []
    },
    {
      "cell_type": "code",
      "source": [],
      "metadata": {
        "id": "uHkw0r1oc7nt"
      },
      "execution_count": 8,
      "outputs": []
    },
    {
      "cell_type": "code",
      "source": [],
      "metadata": {
        "id": "cH0PUpbCc7qA"
      },
      "execution_count": null,
      "outputs": []
    },
    {
      "cell_type": "code",
      "source": [],
      "metadata": {
        "id": "p0E1Q4iCcKKs"
      },
      "execution_count": 11,
      "outputs": []
    },
    {
      "cell_type": "code",
      "source": [],
      "metadata": {
        "id": "ejqsdB6JcKMn"
      },
      "execution_count": null,
      "outputs": []
    },
    {
      "cell_type": "code",
      "source": [],
      "metadata": {
        "id": "blWih4I4WSbV"
      },
      "execution_count": null,
      "outputs": []
    },
    {
      "cell_type": "code",
      "source": [],
      "metadata": {
        "id": "dbGfsS6NWO8J"
      },
      "execution_count": null,
      "outputs": []
    },
    {
      "cell_type": "code",
      "source": [],
      "metadata": {
        "id": "b363LKejVjty"
      },
      "execution_count": null,
      "outputs": []
    },
    {
      "cell_type": "code",
      "source": [],
      "metadata": {
        "id": "52APWhDYVCS6"
      },
      "execution_count": null,
      "outputs": []
    },
    {
      "cell_type": "code",
      "source": [],
      "metadata": {
        "id": "1xzq1Kl-TKGA"
      },
      "execution_count": null,
      "outputs": []
    },
    {
      "cell_type": "code",
      "source": [],
      "metadata": {
        "id": "4CU_U45DTE2N"
      },
      "execution_count": null,
      "outputs": []
    },
    {
      "cell_type": "code",
      "source": [],
      "metadata": {
        "id": "rjX0EZdOS3wU"
      },
      "execution_count": null,
      "outputs": []
    },
    {
      "cell_type": "code",
      "source": [],
      "metadata": {
        "id": "vk2EYiSISR7F"
      },
      "execution_count": null,
      "outputs": []
    },
    {
      "cell_type": "code",
      "source": [],
      "metadata": {
        "id": "SIp71qdaSLdv"
      },
      "execution_count": null,
      "outputs": []
    },
    {
      "cell_type": "code",
      "source": [],
      "metadata": {
        "id": "D5xZQMiiSGAh"
      },
      "execution_count": null,
      "outputs": []
    },
    {
      "cell_type": "code",
      "source": [],
      "metadata": {
        "id": "mFA-H8zuRAT2"
      },
      "execution_count": 68,
      "outputs": []
    },
    {
      "cell_type": "code",
      "source": [],
      "metadata": {
        "id": "8i0BTBtkRAVi"
      },
      "execution_count": null,
      "outputs": []
    },
    {
      "cell_type": "code",
      "source": [],
      "metadata": {
        "id": "gwjC9F31QJt7"
      },
      "execution_count": null,
      "outputs": []
    },
    {
      "cell_type": "code",
      "source": [],
      "metadata": {
        "id": "7i1azXCOQIGc"
      },
      "execution_count": null,
      "outputs": []
    },
    {
      "cell_type": "code",
      "source": [],
      "metadata": {
        "id": "NNBVWDXgQFNH"
      },
      "execution_count": null,
      "outputs": []
    },
    {
      "cell_type": "code",
      "source": [],
      "metadata": {
        "id": "Hx9ZGj7oPovb"
      },
      "execution_count": null,
      "outputs": []
    },
    {
      "cell_type": "code",
      "source": [],
      "metadata": {
        "id": "la-JVsfGPaYL"
      },
      "execution_count": null,
      "outputs": []
    },
    {
      "cell_type": "code",
      "source": [],
      "metadata": {
        "id": "va88bvPYOoCr"
      },
      "execution_count": null,
      "outputs": []
    },
    {
      "cell_type": "code",
      "source": [],
      "metadata": {
        "id": "LMcFoJeIOlSa"
      },
      "execution_count": 61,
      "outputs": []
    },
    {
      "cell_type": "code",
      "source": [],
      "metadata": {
        "id": "dl1tXAXjOlT6"
      },
      "execution_count": null,
      "outputs": []
    },
    {
      "cell_type": "code",
      "source": [],
      "metadata": {
        "id": "sOnum3idL4N9"
      },
      "execution_count": null,
      "outputs": []
    },
    {
      "cell_type": "code",
      "source": [],
      "metadata": {
        "id": "sgv8ra4-L15X"
      },
      "execution_count": null,
      "outputs": []
    },
    {
      "cell_type": "code",
      "source": [],
      "metadata": {
        "id": "jEBlTY7vLsrd"
      },
      "execution_count": null,
      "outputs": []
    },
    {
      "cell_type": "code",
      "source": [],
      "metadata": {
        "id": "_QHJHHWsLoVW"
      },
      "execution_count": null,
      "outputs": []
    },
    {
      "cell_type": "code",
      "source": [],
      "metadata": {
        "id": "Rl1drbZXK-r1"
      },
      "execution_count": null,
      "outputs": []
    },
    {
      "cell_type": "code",
      "source": [],
      "metadata": {
        "id": "UX6fAUJOIMZ8"
      },
      "execution_count": null,
      "outputs": []
    },
    {
      "cell_type": "code",
      "source": [],
      "metadata": {
        "id": "Yqxjmo03Gqu9"
      },
      "execution_count": null,
      "outputs": []
    },
    {
      "cell_type": "code",
      "source": [],
      "metadata": {
        "id": "GQqVNUmGGZuf"
      },
      "execution_count": null,
      "outputs": []
    },
    {
      "cell_type": "code",
      "source": [],
      "metadata": {
        "id": "LHpBeixEGStN"
      },
      "execution_count": null,
      "outputs": []
    },
    {
      "cell_type": "code",
      "source": [],
      "metadata": {
        "id": "BZtR9De9Ewld"
      },
      "execution_count": null,
      "outputs": []
    },
    {
      "cell_type": "code",
      "source": [],
      "metadata": {
        "id": "gR0SBKuVEeEA"
      },
      "execution_count": null,
      "outputs": []
    },
    {
      "cell_type": "code",
      "source": [],
      "metadata": {
        "id": "k_mxDH5L_9H7"
      },
      "execution_count": null,
      "outputs": []
    },
    {
      "cell_type": "code",
      "source": [],
      "metadata": {
        "id": "I4wrN-2l_5Rx"
      },
      "execution_count": null,
      "outputs": []
    },
    {
      "cell_type": "code",
      "source": [],
      "metadata": {
        "id": "D5S83khq_5TH"
      },
      "execution_count": null,
      "outputs": []
    },
    {
      "cell_type": "code",
      "source": [],
      "metadata": {
        "id": "VbhemEqz_29_"
      },
      "execution_count": null,
      "outputs": []
    },
    {
      "cell_type": "code",
      "source": [],
      "metadata": {
        "id": "QanH9WiL_0so"
      },
      "execution_count": null,
      "outputs": []
    },
    {
      "cell_type": "code",
      "source": [],
      "metadata": {
        "id": "rBmxG1Lk_wFz"
      },
      "execution_count": 33,
      "outputs": []
    },
    {
      "cell_type": "code",
      "source": [],
      "metadata": {
        "id": "Hp4u9tUl_wHH"
      },
      "execution_count": null,
      "outputs": []
    },
    {
      "cell_type": "code",
      "source": [],
      "metadata": {
        "id": "SMO1NI8b6qzL"
      },
      "execution_count": null,
      "outputs": []
    },
    {
      "cell_type": "code",
      "source": [],
      "metadata": {
        "id": "eJJPWawn53Bk"
      },
      "execution_count": null,
      "outputs": []
    },
    {
      "cell_type": "markdown",
      "source": [],
      "metadata": {
        "id": "M8Y-7y0G6TWl"
      }
    }
  ]
}