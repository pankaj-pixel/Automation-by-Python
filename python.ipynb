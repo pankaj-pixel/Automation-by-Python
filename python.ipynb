{
  "nbformat": 4,
  "nbformat_minor": 0,
  "metadata": {
    "colab": {
      "provenance": [],
      "authorship_tag": "ABX9TyPOnH0O/E2RNW7SYs8uCO62",
      "include_colab_link": true
    },
    "kernelspec": {
      "name": "python3",
      "display_name": "Python 3"
    },
    "language_info": {
      "name": "python"
    }
  },
  "cells": [
    {
      "cell_type": "markdown",
      "metadata": {
        "id": "view-in-github",
        "colab_type": "text"
      },
      "source": [
        "<a href=\"https://colab.research.google.com/github/pankaj-pixel/Automation-by-Python/blob/main/python.ipynb\" target=\"_parent\"><img src=\"https://colab.research.google.com/assets/colab-badge.svg\" alt=\"Open In Colab\"/></a>"
      ]
    },
    {
      "cell_type": "markdown",
      "source": [
        "PYTHON FOR MACHINE **LEARINIG** "
      ],
      "metadata": {
        "id": "47Na6osmqkWF"
      }
    },
    {
      "cell_type": "markdown",
      "source": [],
      "metadata": {
        "id": "w2pOHCWXrE8B"
      }
    },
    {
      "cell_type": "markdown",
      "source": [
        "DATA TYPES\n",
        "1.Integers\n",
        "2.Floating pointing\n",
        "3.complex\n",
        "4.Boolean\n",
        "5.String\n",
        "\n"
      ],
      "metadata": {
        "id": "8LZWeuTKrHWf"
      }
    },
    {
      "cell_type": "code",
      "source": [
        " #INTEGER\n",
        "a= 15\n",
        "print(a)\n",
        "type(a)"
      ],
      "metadata": {
        "colab": {
          "base_uri": "https://localhost:8080/"
        },
        "id": "7pIlHyDnrUfn",
        "outputId": "50eb9d83-d0c9-4e59-ffa9-3ef3da3da11b"
      },
      "execution_count": 12,
      "outputs": [
        {
          "output_type": "stream",
          "name": "stdout",
          "text": [
            "15\n"
          ]
        },
        {
          "output_type": "execute_result",
          "data": {
            "text/plain": [
              "int"
            ]
          },
          "metadata": {},
          "execution_count": 12
        }
      ]
    },
    {
      "cell_type": "code",
      "source": [
        "#floating point\n",
        "a = 15.3\n",
        "print(a )\n",
        "type(a)\n",
        "b =10\n",
        "c = a+b\n",
        "type(c)\n"
      ],
      "metadata": {
        "colab": {
          "base_uri": "https://localhost:8080/"
        },
        "id": "vdd3ZyvvrHDl",
        "outputId": "21ddbadb-8259-4db0-ccf0-1b6c6a68fbd0"
      },
      "execution_count": 13,
      "outputs": [
        {
          "output_type": "stream",
          "name": "stdout",
          "text": [
            "15.3\n"
          ]
        },
        {
          "output_type": "execute_result",
          "data": {
            "text/plain": [
              "float"
            ]
          },
          "metadata": {},
          "execution_count": 13
        }
      ]
    },
    {
      "cell_type": "code",
      "source": [
        "#COMPLEX NUMBER\n",
        "a  = 15 +2j\n",
        "print(a)\n",
        "type(a)"
      ],
      "metadata": {
        "colab": {
          "base_uri": "https://localhost:8080/"
        },
        "id": "zIJH22B_qxfj",
        "outputId": "9cb3d097-2770-41fb-f832-010fb7108455"
      },
      "execution_count": 16,
      "outputs": [
        {
          "output_type": "stream",
          "name": "stdout",
          "text": [
            "(15+2j)\n"
          ]
        },
        {
          "output_type": "execute_result",
          "data": {
            "text/plain": [
              "complex"
            ]
          },
          "metadata": {},
          "execution_count": 16
        }
      ]
    },
    {
      "cell_type": "code",
      "source": [
        "#DATA TYPE CONVERSION\n",
        "#i = 42\n",
        "#type(i)\n",
        "#int to float\n",
        "#a= float(i)\n",
        "#print(a)\n",
        "#type(a)\n",
        "#float to integer\n",
        "a =45.8\n",
        "#type(a)\n",
        "b = int(a)\n",
        "print(b)\n",
        "type(b)"
      ],
      "metadata": {
        "colab": {
          "base_uri": "https://localhost:8080/"
        },
        "id": "46BMuhVVquvP",
        "outputId": "02a58108-5a5c-4c60-b222-2d3f6964a6ee"
      },
      "execution_count": 32,
      "outputs": [
        {
          "output_type": "stream",
          "name": "stdout",
          "text": [
            "45\n"
          ]
        },
        {
          "output_type": "execute_result",
          "data": {
            "text/plain": [
              "int"
            ]
          },
          "metadata": {},
          "execution_count": 32
        }
      ]
    },
    {
      "cell_type": "markdown",
      "source": [
        "#BOOLEAN"
      ],
      "metadata": {
        "id": "ehxfmQHVvsYV"
      }
    },
    {
      "cell_type": "code",
      "source": [],
      "metadata": {
        "id": "6e_WE3iAptdB"
      },
      "execution_count": null,
      "outputs": []
    },
    {
      "cell_type": "code",
      "source": [
        "\n",
        "#a =True\n",
        "#print(a)\n",
        "#type(a)\n",
        "a = 52 >70\n",
        "print(a)\n",
        "b =3>1\n",
        "print(b)\n",
        "   "
      ],
      "metadata": {
        "colab": {
          "base_uri": "https://localhost:8080/"
        },
        "id": "rKWwFSmSvuuv",
        "outputId": "00256604-4dcb-4978-8110-686f58e44baa"
      },
      "execution_count": 38,
      "outputs": [
        {
          "output_type": "stream",
          "name": "stdout",
          "text": [
            "False\n",
            "True\n"
          ]
        }
      ]
    },
    {
      "cell_type": "markdown",
      "source": [
        "# STRING"
      ],
      "metadata": {
        "id": "0Gd-WGWwyAxD"
      }
    },
    {
      "cell_type": "code",
      "source": [],
      "metadata": {
        "id": "TEcxBO1-prso"
      },
      "execution_count": null,
      "outputs": []
    },
    {
      "cell_type": "code",
      "source": [
        "name= \"mynameispankaj\"\n",
        "#type(name)\n",
        "#print(name[0:10:3])\n",
        "#CONCATINATION\n",
        "\n",
        "first_name = \"Pankaj\"\n",
        "last_name = \"kain\"\n",
        "\n",
        "print(first_name +last_name)\n"
      ],
      "metadata": {
        "colab": {
          "base_uri": "https://localhost:8080/"
        },
        "id": "Yn0_upLjyCrk",
        "outputId": "e03d3018-3b5d-466e-84fd-5d7339f1712c"
      },
      "execution_count": 20,
      "outputs": [
        {
          "output_type": "stream",
          "name": "stdout",
          "text": [
            "Pankajkain\n"
          ]
        }
      ]
    },
    {
      "cell_type": "markdown",
      "source": [],
      "metadata": {
        "id": "8JiuqYokpxZU"
      }
    },
    {
      "cell_type": "markdown",
      "source": [
        "# **Special Data Types**\n",
        "1.Tuple = \"Immutable\"\n",
        "2.List = \"Mutable\"\n",
        "3.Dictionary  = \"Mutable\"\n",
        "4.Set  = \"Mutable\""
      ],
      "metadata": {
        "id": "o2IGFrrdpiL5"
      }
    },
    {
      "cell_type": "code",
      "source": [
        "#TUPLE\n",
        "#collection of element stored in()\n",
        "#Tuples are Immutable\n",
        "\n",
        "#a = (\"pankaj\",2.15,5,True)\n",
        "#print(a)\n",
        "#type(a)\n",
        "\n",
        "\n",
        "#a[0] = \"kain\" cannot change the element once defined\n",
        "\n",
        "#converting a  list into tuple\n",
        "list1 = [25,6,9,\"Pnkaj\"]\n",
        "mytup = tuple(list1)\n",
        "print(mytup)\n",
        "\n"
      ],
      "metadata": {
        "colab": {
          "base_uri": "https://localhost:8080/"
        },
        "id": "TaRdKU_9pn6O",
        "outputId": "acda0134-df16-4e0c-848b-78055a49f7a4"
      },
      "execution_count": 61,
      "outputs": [
        {
          "output_type": "stream",
          "name": "stdout",
          "text": [
            "(25, 6, 9, 'Pnkaj')\n"
          ]
        }
      ]
    },
    {
      "cell_type": "code",
      "execution_count": 58,
      "metadata": {
        "colab": {
          "base_uri": "https://localhost:8080/"
        },
        "id": "qGg3sMIOqfjW",
        "outputId": "0bd31948-a149-4432-cc7f-b2d257d8b678"
      },
      "outputs": [
        {
          "output_type": "stream",
          "name": "stdout",
          "text": [
            "[]\n",
            "[2]\n"
          ]
        }
      ],
      "source": [
        "#LIST\n",
        "#Collection of Elements stored in []\n",
        "#Lists are mutable\n",
        "#list1 = [\"pankaj\" ,1 ,2.5 ,False]\n",
        "#print(list1)\n",
        "#type(list1)\n",
        "\n",
        "#list1[0] = \"kain\" #Lists are mutable\n",
        "#print(list1)\n",
        "\n",
        "#Create an empty List\n",
        "list2 =[]\n",
        "print(list2)\n",
        "\n",
        "#append items in empty list\n",
        "list2.append(2)\n",
        "print(list2)"
      ]
    },
    {
      "cell_type": "code",
      "source": [
        "#Dictionary\n",
        "#collection of elements stored in key value pairs\n",
        "#Dictionary is mutable\n",
        "\n",
        "dict1 = {\"apple\":40,\"Banana\":60, \"Guava\":80}\n",
        "#print(dict1)\n",
        "#type(dict1)\n",
        "#dict1.keys()\n",
        "#dict1.values()"
      ],
      "metadata": {
        "colab": {
          "base_uri": "https://localhost:8080/"
        },
        "id": "Llc9xIQVsXng",
        "outputId": "64bdef84-9c7b-40ef-915a-71ca651fabae"
      },
      "execution_count": 51,
      "outputs": [
        {
          "output_type": "execute_result",
          "data": {
            "text/plain": [
              "dict_values([40, 60, 80])"
            ]
          },
          "metadata": {},
          "execution_count": 51
        }
      ]
    },
    {
      "cell_type": "code",
      "source": [
        "#SETS\n",
        "#collection of elements of similar data types stores in{}\n",
        "#sets are mutable\n",
        "num = {1,2,3,4,5,6,\"apple\"}\n",
        "print(num)\n",
        "\n",
        "\n",
        "\n"
      ],
      "metadata": {
        "colab": {
          "base_uri": "https://localhost:8080/"
        },
        "id": "lc-ojdvNu1Ao",
        "outputId": "3d7fd08b-4143-49e1-eb26-d33d48e83938"
      },
      "execution_count": 53,
      "outputs": [
        {
          "output_type": "stream",
          "name": "stdout",
          "text": [
            "{1, 2, 3, 4, 5, 6, 'apple'}\n"
          ]
        }
      ]
    },
    {
      "cell_type": "markdown",
      "source": [
        "#**OPREATORS**\n",
        "1.Arithmetic\n",
        "2.assigment\n",
        "3.logical\n",
        "4.comparison\n",
        "5.membership"
      ],
      "metadata": {
        "id": "C-qKZzAWxLlQ"
      }
    },
    {
      "cell_type": "code",
      "source": [
        "#2.Assigmenrt opreator\n",
        "# = , += , -=, /=\n",
        "a =25\n",
        "b =25\n",
        "c= a+b\n",
        "#c +=12\n",
        "#print(c)\n",
        "#c -=15\n",
        "#c *=5\n",
        "print(c)"
      ],
      "metadata": {
        "colab": {
          "base_uri": "https://localhost:8080/"
        },
        "id": "tkcgtlY4xvOo",
        "outputId": "aace3ef8-3bef-44d8-c6a7-6a7e853f75b6"
      },
      "execution_count": 69,
      "outputs": [
        {
          "output_type": "stream",
          "name": "stdout",
          "text": [
            "250\n"
          ]
        }
      ]
    },
    {
      "cell_type": "markdown",
      "source": [],
      "metadata": {
        "id": "g4gxH6569HP6"
      }
    },
    {
      "cell_type": "markdown",
      "source": [],
      "metadata": {
        "id": "nh_qBwRY-O3h"
      }
    },
    {
      "cell_type": "markdown",
      "source": [
        "**COMPARISION OPREATOR**"
      ],
      "metadata": {
        "id": "nAFrUBVI9JRr"
      }
    },
    {
      "cell_type": "code",
      "source": [],
      "metadata": {
        "id": "q3OeqBMa-VBM"
      },
      "execution_count": null,
      "outputs": []
    },
    {
      "cell_type": "code",
      "source": [
        "a = 10\n",
        "b = 20\n",
        "\n",
        "print(a == b)\n",
        "print(a != b )\n",
        "print( a > b )\n",
        "print( a <= b)\n",
        "print( a >=b )\n"
      ],
      "metadata": {
        "colab": {
          "base_uri": "https://localhost:8080/"
        },
        "id": "FFEsO1QV9b_w",
        "outputId": "7b296cf1-113a-4cf7-9855-7763ebb1d86a"
      },
      "execution_count": 72,
      "outputs": [
        {
          "output_type": "stream",
          "name": "stdout",
          "text": [
            "False\n",
            "True\n",
            "False\n",
            "True\n",
            "False\n"
          ]
        }
      ]
    },
    {
      "cell_type": "code",
      "source": [],
      "metadata": {
        "id": "kEkOV5ir9nq6"
      },
      "execution_count": null,
      "outputs": []
    },
    {
      "cell_type": "markdown",
      "source": [
        "**3.LOGICAL OPREATOR**"
      ],
      "metadata": {
        "id": "jmMZtj65-G1Z"
      }
    },
    {
      "cell_type": "code",
      "source": [
        "#1.AND\n",
        "#2.OR\n",
        " \n",
        "a = 55\n",
        "\n",
        "#if a>=50 and a<=55: # when both the  conditions will be true than only if part will get executed\n",
        "#  print(\"a Lies btw 50 and 55 Inclusively\") \n",
        "#else:\n",
        "# print(\"A is Greater than 55\")\n",
        "\n"
      ],
      "metadata": {
        "colab": {
          "base_uri": "https://localhost:8080/"
        },
        "id": "YJyAmvL6-M4v",
        "outputId": "e9e42d60-0664-4309-a866-471fd2927c2a"
      },
      "execution_count": 3,
      "outputs": [
        {
          "output_type": "stream",
          "name": "stdout",
          "text": [
            "a Lies btw 50 and 55 Inclusively\n"
          ]
        }
      ]
    },
    {
      "cell_type": "code",
      "source": [
        "#OR\n",
        "\n",
        "a = 10\n",
        "b = 40\n",
        "\n",
        "print(a is b)\n",
        "print (a is not b)\n",
        "#if a>20 or a < 30:\n",
        "#  print(\"yes a lies btw 20 and 30\")\n",
        "#else:\n",
        "#  print(\"No its Not lies btw 20 and 30\")"
      ],
      "metadata": {
        "colab": {
          "base_uri": "https://localhost:8080/"
        },
        "id": "WblcQT2c9YPm",
        "outputId": "7a8e4d18-f6a7-4673-c77b-a27a8fd7ccdf"
      },
      "execution_count": 13,
      "outputs": [
        {
          "output_type": "stream",
          "name": "stdout",
          "text": [
            "False\n",
            "True\n"
          ]
        }
      ]
    },
    {
      "cell_type": "code",
      "source": [],
      "metadata": {
        "id": "RjNzhLXX9Rr6"
      },
      "execution_count": null,
      "outputs": []
    },
    {
      "cell_type": "markdown",
      "source": [
        "#membership opreator"
      ],
      "metadata": {
        "id": "-2ZFF5cKS5lR"
      }
    },
    {
      "cell_type": "code",
      "source": [
        "a = 10\n",
        "b =5\n",
        "\n",
        "c =[1,5,6,8,2,3]\n",
        "print(a in c)\n",
        "print(b in c)"
      ],
      "metadata": {
        "colab": {
          "base_uri": "https://localhost:8080/"
        },
        "id": "hEGvkj45TAez",
        "outputId": "35e090e0-d10d-4ff5-e9bd-db3536b429ad"
      },
      "execution_count": 14,
      "outputs": [
        {
          "output_type": "stream",
          "name": "stdout",
          "text": [
            "False\n",
            "True\n"
          ]
        }
      ]
    },
    {
      "cell_type": "code",
      "source": [],
      "metadata": {
        "id": "c0k9bB6q9NVg"
      },
      "execution_count": null,
      "outputs": []
    },
    {
      "cell_type": "markdown",
      "source": [
        "#**IF AND ELSE**"
      ],
      "metadata": {
        "id": "aI_OtF6Tb1ju"
      }
    },
    {
      "cell_type": "code",
      "source": [
        "num= int(input(\"Enter the number : \"))\n",
        "\n",
        "if num > 50:\n",
        "  print(\"The Number is greaet than 50\")\n",
        "\n",
        "else:\n",
        "  print(\"Number is less than 50\")"
      ],
      "metadata": {
        "colab": {
          "base_uri": "https://localhost:8080/"
        },
        "id": "VOhLZT3sb_F9",
        "outputId": "1d2e11e4-06fa-4852-d7b0-a1d3410348f1"
      },
      "execution_count": 16,
      "outputs": [
        {
          "output_type": "stream",
          "name": "stdout",
          "text": [
            "Enter the number : 20\n",
            "Number is less than 50\n"
          ]
        }
      ]
    },
    {
      "cell_type": "code",
      "source": [
        "num1 = int(input(\"Enter the number 1 : \"))\n",
        "num2 = int(input(\"Enter the number 2 : \"))\n",
        "\n",
        "if num1 > num2 :\n",
        "  print(\"num1 is greater than num1\")\n",
        "else:\n",
        " print(\"num2 is greater\")"
      ],
      "metadata": {
        "colab": {
          "base_uri": "https://localhost:8080/"
        },
        "id": "iikAh-RnxVqG",
        "outputId": "b0cf946e-fc6c-44ea-d8c9-052273ebd1d7"
      },
      "execution_count": 18,
      "outputs": [
        {
          "output_type": "stream",
          "name": "stdout",
          "text": [
            "Enter the number 1 : 32\n",
            "Enter the number 2 : 33\n",
            "num2 is greater\n"
          ]
        }
      ]
    },
    {
      "cell_type": "code",
      "source": [
        "#To find greatest of 3 number if elif and else\n",
        "\n",
        "a = 10\n",
        "b= 8\n",
        "c =1\n",
        "\n",
        "if(b<a>c):\n",
        "  print(\"a is largerst among 3\")\n",
        "elif(a<b>c):\n",
        "   print(\"b is largest among 3\")\n",
        "else:\n",
        "  print(\"c is largest\")"
      ],
      "metadata": {
        "colab": {
          "base_uri": "https://localhost:8080/"
        },
        "id": "QgM4lqAwk1QO",
        "outputId": "48e0f70c-75e9-4ad7-e292-7a2491d24b8b"
      },
      "execution_count": 20,
      "outputs": [
        {
          "output_type": "stream",
          "name": "stdout",
          "text": [
            "a is largerst among 3\n"
          ]
        }
      ]
    },
    {
      "cell_type": "markdown",
      "source": [
        "#LOOPS\n",
        "Loops are used to run a certain task again and again\n",
        "\n",
        "> The major difference between for loop and the while loop is that for   loop is used when the number of iterations is known, whereas execution is done in the while loop until the statement in the program is proved wrong.\n",
        "\n",
        "\n",
        "\n",
        "\n",
        "\n"
      ],
      "metadata": {
        "id": "mmx1bKvv0qjA"
      }
    },
    {
      "cell_type": "code",
      "source": [],
      "metadata": {
        "id": "x4cz9Ow64DTr"
      },
      "execution_count": null,
      "outputs": []
    },
    {
      "cell_type": "code",
      "source": [
        "#FOR LOOP\n",
        "# That is not an efficient way of writing code\n",
        "#Instead we use loops to perform repeated task\n",
        "ruit1 = int(input(\"Enter the price of fruit 1 : \"))\n",
        "fruit2 = int(input(\"Enter the price of fruit 2 : \"))\n",
        "fruit3 = int(input(\"Enter the price of fruit 3 : \"))\n",
        "fruit4 = int(input(\"Enter the price of fruit 4 : \"))\n",
        "fruit5 = int(input(\"Enter the price of fruit 5 : \"))"
      ],
      "metadata": {
        "colab": {
          "base_uri": "https://localhost:8080/"
        },
        "id": "TlAvNgYb059L",
        "outputId": "bbff4923-3ff5-41fe-c735-b7df6a2045fe"
      },
      "execution_count": 21,
      "outputs": [
        {
          "name": "stdout",
          "output_type": "stream",
          "text": [
            "Enter the price of fruit 1 : 50\n",
            "Enter the price of fruit 2 : 60\n",
            "Enter the price of fruit 3 : 7\n",
            "Enter the price of fruit 4 : 80\n",
            "Enter the price of fruit 5 : 90\n"
          ]
        }
      ]
    },
    {
      "cell_type": "code",
      "source": [
        "for i in range(5): #0,1,2,3,4\n",
        "  fruitprice = int(input(\"Enter the price of fruits : \"))"
      ],
      "metadata": {
        "colab": {
          "base_uri": "https://localhost:8080/"
        },
        "id": "8FxQD-Ko02xT",
        "outputId": "0ae0d4b0-d0aa-4eed-d362-a1779e90482e"
      },
      "execution_count": 22,
      "outputs": [
        {
          "name": "stdout",
          "output_type": "stream",
          "text": [
            "Enter the price of fruits : 50\n",
            "Enter the price of fruits : 60\n",
            "Enter the price of fruits : 70\n",
            "Enter the price of fruits : 80\n",
            "Enter the price of fruits : 90\n"
          ]
        }
      ]
    },
    {
      "cell_type": "code",
      "source": [
        "List = [\"Apple\",\"Banana\", \"Guava\" , \"Strawberry\" ,\"papaya\"]\n",
        "for i in List:\n",
        "  print(i)"
      ],
      "metadata": {
        "colab": {
          "base_uri": "https://localhost:8080/"
        },
        "id": "qs2m71mMxQPN",
        "outputId": "27415efb-9401-47c7-eb7d-32ec97a59ed7"
      },
      "execution_count": 23,
      "outputs": [
        {
          "output_type": "stream",
          "name": "stdout",
          "text": [
            "Apple\n",
            "Banana\n",
            "Guava\n",
            "Strawberry\n",
            "papaya\n"
          ]
        }
      ]
    },
    {
      "cell_type": "code",
      "source": [
        "#WHILE LOOP\n",
        "\n",
        "i = 0\n",
        "while(i<10):\n",
        "  i +=1\n",
        "  print(i)"
      ],
      "metadata": {
        "colab": {
          "base_uri": "https://localhost:8080/"
        },
        "id": "mJ5mh72TxKfI",
        "outputId": "228f301e-59dc-4ddf-bb1a-777a1e0b6d62"
      },
      "execution_count": 26,
      "outputs": [
        {
          "output_type": "stream",
          "name": "stdout",
          "text": [
            "1\n",
            "2\n",
            "3\n",
            "4\n",
            "5\n",
            "6\n",
            "7\n",
            "8\n",
            "9\n",
            "10\n"
          ]
        }
      ]
    },
    {
      "cell_type": "markdown",
      "source": [
        "#FUNCTIONS\n",
        "\n",
        "\n",
        "\n",
        "> Function is a block of code that can be reused in program\n",
        "\n",
        "\n",
        "\n"
      ],
      "metadata": {
        "id": "SaGsxMsS6flt"
      }
    },
    {
      "cell_type": "code",
      "source": [
        "def hello():\n",
        " print(\"Hello pankaj\")\n",
        "\n",
        "\n",
        "hello() #calling the function"
      ],
      "metadata": {
        "colab": {
          "base_uri": "https://localhost:8080/"
        },
        "id": "qT1wOpsd6yrV",
        "outputId": "d356b4be-b12e-4880-da08-1155e704b7af"
      },
      "execution_count": 30,
      "outputs": [
        {
          "output_type": "stream",
          "name": "stdout",
          "text": [
            "Hello pankaj\n"
          ]
        }
      ]
    },
    {
      "cell_type": "code",
      "source": [
        "def add(a,b):\n",
        " print(a+b)\n",
        "\n",
        "add(5,10)\n",
        "add(12,56)"
      ],
      "metadata": {
        "colab": {
          "base_uri": "https://localhost:8080/"
        },
        "id": "slDHXixK7Y2D",
        "outputId": "d5c3dc03-6df3-4413-8e60-e62ffadda003"
      },
      "execution_count": 32,
      "outputs": [
        {
          "output_type": "stream",
          "name": "stdout",
          "text": [
            "15\n",
            "68\n"
          ]
        }
      ]
    },
    {
      "cell_type": "code",
      "source": [
        "num = int(input(\"Enter the Number : \"))\n",
        "\n",
        "factorial = 1\n",
        "\n",
        "if num == 0:\n",
        "  print(\"Factorial of 0 is 1\")\n",
        "else:\n",
        "  for i in range(1,num+1):\n",
        "    factorial = factorial*i\n",
        "    print(\"The factorial of \",num,\"is\",factorial) "
      ],
      "metadata": {
        "colab": {
          "base_uri": "https://localhost:8080/"
        },
        "id": "fF8HWG_c90D2",
        "outputId": "3ed12e40-bd2f-4b33-d412-5ea821356bac"
      },
      "execution_count": 33,
      "outputs": [
        {
          "output_type": "stream",
          "name": "stdout",
          "text": [
            "Enter the Number : 5\n",
            "The factorial of  5 is 1\n",
            "The factorial of  5 is 2\n",
            "The factorial of  5 is 6\n",
            "The factorial of  5 is 24\n",
            "The factorial of  5 is 120\n"
          ]
        }
      ]
    },
    {
      "cell_type": "code",
      "source": [],
      "metadata": {
        "id": "C8C2_2sv9xvN"
      },
      "execution_count": null,
      "outputs": []
    },
    {
      "cell_type": "code",
      "source": [],
      "metadata": {
        "id": "N-tJZZGB7T-b"
      },
      "execution_count": null,
      "outputs": []
    },
    {
      "cell_type": "code",
      "source": [],
      "metadata": {
        "id": "E4spYesd7SiN"
      },
      "execution_count": null,
      "outputs": []
    },
    {
      "cell_type": "code",
      "source": [],
      "metadata": {
        "id": "RgEAl40j7Q1e"
      },
      "execution_count": null,
      "outputs": []
    },
    {
      "cell_type": "code",
      "source": [],
      "metadata": {
        "id": "B4ZuLZsT5kXE"
      },
      "execution_count": null,
      "outputs": []
    },
    {
      "cell_type": "code",
      "source": [],
      "metadata": {
        "id": "KCFndTtd5bBL"
      },
      "execution_count": null,
      "outputs": []
    },
    {
      "cell_type": "code",
      "source": [],
      "metadata": {
        "id": "oGuwA5_R5V6o"
      },
      "execution_count": null,
      "outputs": []
    }
  ]
}